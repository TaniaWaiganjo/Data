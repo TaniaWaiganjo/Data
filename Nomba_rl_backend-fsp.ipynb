{
 "cells": [
  {
   "metadata": {
    "ExecuteTime": {
     "end_time": "2024-08-02T05:55:16.938876Z",
     "start_time": "2024-08-02T05:55:16.672998Z"
    }
   },
   "cell_type": "code",
   "source": [
    "import  pandas as pd\n",
    "import recordlinkage\n",
    "import re\n",
    "import matplotlib.pyplot as plt\n",
    "\n",
    "nomba_gtb_fsp = pd.read_csv('Nomba_GTB_BILLS - fsp_16_mar_2024_31_mar_2024.csv', index_col='id_fsp')\n",
    "nomba_gtb_backend = pd.read_csv('Nomba_GTB_BILLS - Backend_1_Mar_2024_31_2024.csv', index_col='id_backend')\n",
    "\n",
    "#nomba_gtb_fsp"
   ],
   "id": "6dd5d391f4a3d707",
   "outputs": [],
   "execution_count": 2
  },
  {
   "metadata": {},
   "cell_type": "markdown",
   "source": [
    "###Preprocessing \n",
    "\n",
    "    1. Ensuring col names in the data sources are different. ( id, transaction date, amount, extracted description) \n",
    "    2. Ensuring transaction date is in the same format(no time included).\n",
    "    3. Extracting description number from both backend and frontend.\n",
    "    4. Amount in the same format (2d)."
   ],
   "id": "a1a7847f5b5c1d96"
  },
  {
   "metadata": {
    "ExecuteTime": {
     "end_time": "2024-08-02T05:55:20.912800Z",
     "start_time": "2024-08-02T05:55:20.887460Z"
    }
   },
   "cell_type": "code",
   "source": [
    "nomba_gtb_backend['amount_backend'] = nomba_gtb_backend['amount_backend'].astype(float).map('{:.2f}'.format)\n",
    "nomba_gtb_fsp['amount_fsp'] = nomba_gtb_fsp['amount_fsp'].astype(float).map('{:.2f}'.format)\n",
    "\n",
    "nomba_gtb_backend['description_number'] = nomba_gtb_backend['description'].str.split('/').str[0]\n",
    "#nomba_gtb_backend"
   ],
   "id": "68a811cb43aa30f4",
   "outputs": [],
   "execution_count": 3
  },
  {
   "metadata": {
    "ExecuteTime": {
     "end_time": "2024-08-02T05:55:29.466895Z",
     "start_time": "2024-08-02T05:55:29.448916Z"
    }
   },
   "cell_type": "code",
   "source": [
    "def extract_fsp_description_number(text):\n",
    "    match = re.search(r'TP-COSMIC\\s+(\\d+)', text)\n",
    "    return match.group(1) if match else None\n",
    "\n",
    "\n",
    "nomba_gtb_fsp['description_number_fsp'] = nomba_gtb_fsp['description'].apply(extract_fsp_description_number)\n",
    "#nomba_gtb_fsp"
   ],
   "id": "9a302bce5108f9ab",
   "outputs": [],
   "execution_count": 5
  },
  {
   "metadata": {
    "ExecuteTime": {
     "end_time": "2024-08-02T05:55:33.800240Z",
     "start_time": "2024-08-02T05:55:33.788732Z"
    }
   },
   "cell_type": "code",
   "source": [
    "# Filter for 'bills_payments'\n",
    "nomba_gtb_fsp_bills_payments = nomba_gtb_fsp[nomba_gtb_fsp['reporting_tag'] == 'bill_payments']\n",
    "\n",
    "# Filter for 'fees_and_commissions'\n",
    "nomba_gtb_fsp_fees_and_commissions = nomba_gtb_fsp[nomba_gtb_fsp['reporting_tag'] == 'fees_and_commissions']\n",
    "#nomba_gtb_fsp"
   ],
   "id": "2ea2c8db005eb688",
   "outputs": [],
   "execution_count": 6
  },
  {
   "metadata": {},
   "cell_type": "markdown",
   "source": [
    "Creating indexer object. Either blocking or full index.\n",
    "Individual indexer object for comparing fsp to backend and another for backend to fsp"
   ],
   "id": "1f33d7538d8641a4"
  },
  {
   "metadata": {
    "ExecuteTime": {
     "end_time": "2024-08-02T05:55:37.936357Z",
     "start_time": "2024-08-02T05:55:37.930694Z"
    }
   },
   "cell_type": "code",
   "source": [
    "# FSP TO BACKEND\n",
    "indexer = recordlinkage.Index()\n",
    "#indexer.block(left_on='transaction_date_fsp',right_on='transaction_date_backend')\n",
    "#indexer.full()\n",
    "indexer.block(left_on='description_number_fsp',right_on=\"description_number\")\n",
    "# BACKEND TO FSP\n",
    "indexer_backend = recordlinkage.Index()\n",
    "indexer_backend.block(left_on='transaction_date_backend',right_on='transaction_date_fsp')\n",
    "\n"
   ],
   "id": "156c028a77993260",
   "outputs": [
    {
     "data": {
      "text/plain": [
       "<Index>"
      ]
     },
     "execution_count": 7,
     "metadata": {},
     "output_type": "execute_result"
    }
   ],
   "execution_count": 7
  },
  {
   "metadata": {},
   "cell_type": "markdown",
   "source": [
    "Blocking on transaction date means only transactions made on the same date are compared.\n",
    "\n",
    "Incase a transaction date was erroneously recorded on either data source, a false positive / negative is possible"
   ],
   "id": "f7b68adb2c61f0eb"
  },
  {
   "metadata": {
    "ExecuteTime": {
     "end_time": "2024-08-02T06:01:00.703462Z",
     "start_time": "2024-08-02T06:01:00.214252Z"
    }
   },
   "cell_type": "code",
   "source": [
    "# CANDIDATES FOR FSP TO BACKEND\n",
    "candidates_combined_fsp = indexer.index(nomba_gtb_fsp, nomba_gtb_backend)\n",
    "candidates_bills = indexer.index(nomba_gtb_fsp_bills_payments,nomba_gtb_backend)\n",
    "\n",
    "# CANDIDATES FOR BACKEND TO FSP \n",
    "candidates_backend = indexer_backend.index(nomba_gtb_backend, nomba_gtb_fsp)\n",
    "len(candidates_backend)\n",
    "\n",
    "\n",
    "# CANDIDATES FOR BACKEND TO FSP bills\n",
    "candidates_backend_bills = indexer_backend.index(nomba_gtb_backend, nomba_gtb_fsp_bills_payments)\n",
    "len(candidates_backend_bills)\n",
    "\n",
    "# CANDIDATES FOR BACKEND TO FSP FEES\n",
    "candidates_backend_fees = indexer_backend.index(nomba_gtb_backend, nomba_gtb_fsp_fees_and_commissions)\n",
    "len(candidates_backend_fees)\n",
    "\n",
    "\n",
    "# full index produces 11m+ candidates"
   ],
   "id": "c30d69108ba61cd2",
   "outputs": [
    {
     "data": {
      "text/plain": [
       "1938315"
      ]
     },
     "execution_count": 8,
     "metadata": {},
     "output_type": "execute_result"
    }
   ],
   "execution_count": 8
  },
  {
   "metadata": {},
   "cell_type": "markdown",
   "source": [
    "compare options: exact, string, date , add.\n",
    "\n",
    "Set threshold and method.\n",
    "\n",
    "### Comparison methods\n",
    "    1. Jaro-winkler\n",
    "    2. Levenshtein\n",
    "    3. Cosine Similarity\n",
    "    4. Damerau-Levenshtein\n",
    "    5. Hamming distance\n",
    "    6. Soundex - not relevant here\n",
    "    \n",
    "Ref : https://www.getcensus.com/blog/implementing-entity-resolution-with-python-record-linkage"
   ],
   "id": "5ab5e6f6884237e8"
  },
  {
   "metadata": {
    "ExecuteTime": {
     "end_time": "2024-08-02T06:01:55.864755Z",
     "start_time": "2024-08-02T06:01:22.608027Z"
    }
   },
   "cell_type": "code",
   "source": [
    "# initialize Compare classes\n",
    "compare_backend = recordlinkage.Compare()\n",
    "compare_backend_bills = recordlinkage.Compare()\n",
    "#compare_backend_fees = recordlinkage.Compare()\n",
    "\n",
    "compare_backend.string(\"transaction_date_backend\",\"transaction_date_fsp\" ,label = 'transaction_date')\n",
    "compare_backend.exact(\"amount_backend\",\"amount_fsp\",  label = 'amount')\n",
    "\n",
    "compare_backend_bills.string(\"transaction_date_backend\",\"transaction_date_fsp\" ,label = 'transaction_date')\n",
    "compare_backend_bills.exact(\"amount_backend\",\"amount_fsp\", label = 'amount')\n",
    "\n",
    "#compare_backend_fees.string(\"transaction_date_fsp\",\"transaction_date_backend\" ,label = 'transaction_date')\n",
    "#compare_backend_fees.string(\"amount_fsp\",\"amount_backend\", label = 'amount')\n",
    "\n",
    "features_backend = compare_backend.compute(candidates_backend,nomba_gtb_backend,nomba_gtb_fsp)\n",
    "\n",
    "\n",
    "# backend fsp bills\n",
    "features_backend_bills = compare_backend_bills.compute(candidates_backend_bills,nomba_gtb_backend,nomba_gtb_fsp_bills_payments)\n",
    "\n",
    "# backend fsp fees\n",
    "#features_backend_fees = compare_backend_fees.compute(candidates_backend_fees,nomba_gtb_fsp_fees_and_commissions,nomba_gtb_backend)\n"
   ],
   "id": "a9498615ecadf628",
   "outputs": [],
   "execution_count": 9
  },
  {
   "metadata": {
    "ExecuteTime": {
     "end_time": "2024-08-02T06:03:50.174721Z",
     "start_time": "2024-08-02T06:03:50.136160Z"
    }
   },
   "cell_type": "code",
   "source": [
    "features_backend['sum']= features_backend['transaction_date'] + features_backend['amount']\n",
    "features_backend_bills['sum']= features_backend_bills['transaction_date'] + features_backend_bills['amount']\n",
    "#features_backend_fees['sum']= features_backend_fees['transaction_date'] + features_backend_fees['amount']\n"
   ],
   "id": "755ac95448cada50",
   "outputs": [],
   "execution_count": 10
  },
  {
   "metadata": {
    "ExecuteTime": {
     "end_time": "2024-08-02T06:03:51.815720Z",
     "start_time": "2024-08-02T06:03:51.812807Z"
    }
   },
   "cell_type": "code",
   "source": "#features_backend_fees",
   "id": "2b362652870fb44d",
   "outputs": [],
   "execution_count": 11
  },
  {
   "metadata": {
    "ExecuteTime": {
     "end_time": "2024-08-02T06:03:57.679550Z",
     "start_time": "2024-08-02T06:03:57.666042Z"
    }
   },
   "cell_type": "code",
   "source": "features_backend_bills",
   "id": "b7f5171ae0c4e81f",
   "outputs": [
    {
     "data": {
      "text/plain": [
       "                      transaction_date  amount  sum\n",
       "id_backend id_fsp                                  \n",
       "684754662  493532329               1.0       0  1.0\n",
       "           493532155               1.0       0  1.0\n",
       "           493532407               1.0       0  1.0\n",
       "           493532377               1.0       0  1.0\n",
       "           493531853               1.0       0  1.0\n",
       "...                                ...     ...  ...\n",
       "684762638  493528081               1.0       0  1.0\n",
       "           493528051               1.0       0  1.0\n",
       "           493528427               1.0       0  1.0\n",
       "           493528251               1.0       0  1.0\n",
       "           493528175               1.0       0  1.0\n",
       "\n",
       "[1936834 rows x 3 columns]"
      ],
      "text/html": [
       "<div>\n",
       "<style scoped>\n",
       "    .dataframe tbody tr th:only-of-type {\n",
       "        vertical-align: middle;\n",
       "    }\n",
       "\n",
       "    .dataframe tbody tr th {\n",
       "        vertical-align: top;\n",
       "    }\n",
       "\n",
       "    .dataframe thead th {\n",
       "        text-align: right;\n",
       "    }\n",
       "</style>\n",
       "<table border=\"1\" class=\"dataframe\">\n",
       "  <thead>\n",
       "    <tr style=\"text-align: right;\">\n",
       "      <th></th>\n",
       "      <th></th>\n",
       "      <th>transaction_date</th>\n",
       "      <th>amount</th>\n",
       "      <th>sum</th>\n",
       "    </tr>\n",
       "    <tr>\n",
       "      <th>id_backend</th>\n",
       "      <th>id_fsp</th>\n",
       "      <th></th>\n",
       "      <th></th>\n",
       "      <th></th>\n",
       "    </tr>\n",
       "  </thead>\n",
       "  <tbody>\n",
       "    <tr>\n",
       "      <th rowspan=\"5\" valign=\"top\">684754662</th>\n",
       "      <th>493532329</th>\n",
       "      <td>1.0</td>\n",
       "      <td>0</td>\n",
       "      <td>1.0</td>\n",
       "    </tr>\n",
       "    <tr>\n",
       "      <th>493532155</th>\n",
       "      <td>1.0</td>\n",
       "      <td>0</td>\n",
       "      <td>1.0</td>\n",
       "    </tr>\n",
       "    <tr>\n",
       "      <th>493532407</th>\n",
       "      <td>1.0</td>\n",
       "      <td>0</td>\n",
       "      <td>1.0</td>\n",
       "    </tr>\n",
       "    <tr>\n",
       "      <th>493532377</th>\n",
       "      <td>1.0</td>\n",
       "      <td>0</td>\n",
       "      <td>1.0</td>\n",
       "    </tr>\n",
       "    <tr>\n",
       "      <th>493531853</th>\n",
       "      <td>1.0</td>\n",
       "      <td>0</td>\n",
       "      <td>1.0</td>\n",
       "    </tr>\n",
       "    <tr>\n",
       "      <th>...</th>\n",
       "      <th>...</th>\n",
       "      <td>...</td>\n",
       "      <td>...</td>\n",
       "      <td>...</td>\n",
       "    </tr>\n",
       "    <tr>\n",
       "      <th rowspan=\"5\" valign=\"top\">684762638</th>\n",
       "      <th>493528081</th>\n",
       "      <td>1.0</td>\n",
       "      <td>0</td>\n",
       "      <td>1.0</td>\n",
       "    </tr>\n",
       "    <tr>\n",
       "      <th>493528051</th>\n",
       "      <td>1.0</td>\n",
       "      <td>0</td>\n",
       "      <td>1.0</td>\n",
       "    </tr>\n",
       "    <tr>\n",
       "      <th>493528427</th>\n",
       "      <td>1.0</td>\n",
       "      <td>0</td>\n",
       "      <td>1.0</td>\n",
       "    </tr>\n",
       "    <tr>\n",
       "      <th>493528251</th>\n",
       "      <td>1.0</td>\n",
       "      <td>0</td>\n",
       "      <td>1.0</td>\n",
       "    </tr>\n",
       "    <tr>\n",
       "      <th>493528175</th>\n",
       "      <td>1.0</td>\n",
       "      <td>0</td>\n",
       "      <td>1.0</td>\n",
       "    </tr>\n",
       "  </tbody>\n",
       "</table>\n",
       "<p>1936834 rows × 3 columns</p>\n",
       "</div>"
      ]
     },
     "execution_count": 12,
     "metadata": {},
     "output_type": "execute_result"
    }
   ],
   "execution_count": 12
  },
  {
   "metadata": {
    "ExecuteTime": {
     "end_time": "2024-08-02T06:04:03.139750Z",
     "start_time": "2024-08-02T06:04:03.114660Z"
    }
   },
   "cell_type": "code",
   "source": "features_backend",
   "id": "a4b4d207ec52f592",
   "outputs": [
    {
     "data": {
      "text/plain": [
       "                      transaction_date  amount  sum\n",
       "id_backend id_fsp                                  \n",
       "684754662  493532329               1.0       0  1.0\n",
       "           493532155               1.0       0  1.0\n",
       "           493532407               1.0       0  1.0\n",
       "           493532377               1.0       0  1.0\n",
       "           493531853               1.0       0  1.0\n",
       "...                                ...     ...  ...\n",
       "684762638  493528476               1.0       0  1.0\n",
       "           493528478               1.0       0  1.0\n",
       "           493528480               1.0       0  1.0\n",
       "           493528482               1.0       0  1.0\n",
       "           493528484               1.0       0  1.0\n",
       "\n",
       "[3875988 rows x 3 columns]"
      ],
      "text/html": [
       "<div>\n",
       "<style scoped>\n",
       "    .dataframe tbody tr th:only-of-type {\n",
       "        vertical-align: middle;\n",
       "    }\n",
       "\n",
       "    .dataframe tbody tr th {\n",
       "        vertical-align: top;\n",
       "    }\n",
       "\n",
       "    .dataframe thead th {\n",
       "        text-align: right;\n",
       "    }\n",
       "</style>\n",
       "<table border=\"1\" class=\"dataframe\">\n",
       "  <thead>\n",
       "    <tr style=\"text-align: right;\">\n",
       "      <th></th>\n",
       "      <th></th>\n",
       "      <th>transaction_date</th>\n",
       "      <th>amount</th>\n",
       "      <th>sum</th>\n",
       "    </tr>\n",
       "    <tr>\n",
       "      <th>id_backend</th>\n",
       "      <th>id_fsp</th>\n",
       "      <th></th>\n",
       "      <th></th>\n",
       "      <th></th>\n",
       "    </tr>\n",
       "  </thead>\n",
       "  <tbody>\n",
       "    <tr>\n",
       "      <th rowspan=\"5\" valign=\"top\">684754662</th>\n",
       "      <th>493532329</th>\n",
       "      <td>1.0</td>\n",
       "      <td>0</td>\n",
       "      <td>1.0</td>\n",
       "    </tr>\n",
       "    <tr>\n",
       "      <th>493532155</th>\n",
       "      <td>1.0</td>\n",
       "      <td>0</td>\n",
       "      <td>1.0</td>\n",
       "    </tr>\n",
       "    <tr>\n",
       "      <th>493532407</th>\n",
       "      <td>1.0</td>\n",
       "      <td>0</td>\n",
       "      <td>1.0</td>\n",
       "    </tr>\n",
       "    <tr>\n",
       "      <th>493532377</th>\n",
       "      <td>1.0</td>\n",
       "      <td>0</td>\n",
       "      <td>1.0</td>\n",
       "    </tr>\n",
       "    <tr>\n",
       "      <th>493531853</th>\n",
       "      <td>1.0</td>\n",
       "      <td>0</td>\n",
       "      <td>1.0</td>\n",
       "    </tr>\n",
       "    <tr>\n",
       "      <th>...</th>\n",
       "      <th>...</th>\n",
       "      <td>...</td>\n",
       "      <td>...</td>\n",
       "      <td>...</td>\n",
       "    </tr>\n",
       "    <tr>\n",
       "      <th rowspan=\"5\" valign=\"top\">684762638</th>\n",
       "      <th>493528476</th>\n",
       "      <td>1.0</td>\n",
       "      <td>0</td>\n",
       "      <td>1.0</td>\n",
       "    </tr>\n",
       "    <tr>\n",
       "      <th>493528478</th>\n",
       "      <td>1.0</td>\n",
       "      <td>0</td>\n",
       "      <td>1.0</td>\n",
       "    </tr>\n",
       "    <tr>\n",
       "      <th>493528480</th>\n",
       "      <td>1.0</td>\n",
       "      <td>0</td>\n",
       "      <td>1.0</td>\n",
       "    </tr>\n",
       "    <tr>\n",
       "      <th>493528482</th>\n",
       "      <td>1.0</td>\n",
       "      <td>0</td>\n",
       "      <td>1.0</td>\n",
       "    </tr>\n",
       "    <tr>\n",
       "      <th>493528484</th>\n",
       "      <td>1.0</td>\n",
       "      <td>0</td>\n",
       "      <td>1.0</td>\n",
       "    </tr>\n",
       "  </tbody>\n",
       "</table>\n",
       "<p>3875988 rows × 3 columns</p>\n",
       "</div>"
      ]
     },
     "execution_count": 13,
     "metadata": {},
     "output_type": "execute_result"
    }
   ],
   "execution_count": 13
  },
  {
   "metadata": {
    "ExecuteTime": {
     "end_time": "2024-08-02T06:04:05.863111Z",
     "start_time": "2024-08-02T06:04:04.569181Z"
    }
   },
   "cell_type": "code",
   "source": [
    "best_match_backend = features_backend.loc[features_backend.groupby('id_backend')['sum'].idxmax()]\n",
    "best_match_backend"
   ],
   "id": "b3394369a38a008f",
   "outputs": [
    {
     "data": {
      "text/plain": [
       "                      transaction_date  amount  sum\n",
       "id_backend id_fsp                                  \n",
       "684754594  493531435               1.0       1  2.0\n",
       "684754595  493531043               1.0       1  2.0\n",
       "684754596  493531371               1.0       1  2.0\n",
       "684754597  493530791               1.0       1  2.0\n",
       "684754598  493531319               1.0       1  2.0\n",
       "...                                ...     ...  ...\n",
       "684765329  493524637               1.0       0  1.0\n",
       "684765341  493523671               1.0       1  2.0\n",
       "684765342  493523671               1.0       1  2.0\n",
       "684765343  493523671               1.0       1  2.0\n",
       "684765344  493523671               1.0       1  2.0\n",
       "\n",
       "[5324 rows x 3 columns]"
      ],
      "text/html": [
       "<div>\n",
       "<style scoped>\n",
       "    .dataframe tbody tr th:only-of-type {\n",
       "        vertical-align: middle;\n",
       "    }\n",
       "\n",
       "    .dataframe tbody tr th {\n",
       "        vertical-align: top;\n",
       "    }\n",
       "\n",
       "    .dataframe thead th {\n",
       "        text-align: right;\n",
       "    }\n",
       "</style>\n",
       "<table border=\"1\" class=\"dataframe\">\n",
       "  <thead>\n",
       "    <tr style=\"text-align: right;\">\n",
       "      <th></th>\n",
       "      <th></th>\n",
       "      <th>transaction_date</th>\n",
       "      <th>amount</th>\n",
       "      <th>sum</th>\n",
       "    </tr>\n",
       "    <tr>\n",
       "      <th>id_backend</th>\n",
       "      <th>id_fsp</th>\n",
       "      <th></th>\n",
       "      <th></th>\n",
       "      <th></th>\n",
       "    </tr>\n",
       "  </thead>\n",
       "  <tbody>\n",
       "    <tr>\n",
       "      <th>684754594</th>\n",
       "      <th>493531435</th>\n",
       "      <td>1.0</td>\n",
       "      <td>1</td>\n",
       "      <td>2.0</td>\n",
       "    </tr>\n",
       "    <tr>\n",
       "      <th>684754595</th>\n",
       "      <th>493531043</th>\n",
       "      <td>1.0</td>\n",
       "      <td>1</td>\n",
       "      <td>2.0</td>\n",
       "    </tr>\n",
       "    <tr>\n",
       "      <th>684754596</th>\n",
       "      <th>493531371</th>\n",
       "      <td>1.0</td>\n",
       "      <td>1</td>\n",
       "      <td>2.0</td>\n",
       "    </tr>\n",
       "    <tr>\n",
       "      <th>684754597</th>\n",
       "      <th>493530791</th>\n",
       "      <td>1.0</td>\n",
       "      <td>1</td>\n",
       "      <td>2.0</td>\n",
       "    </tr>\n",
       "    <tr>\n",
       "      <th>684754598</th>\n",
       "      <th>493531319</th>\n",
       "      <td>1.0</td>\n",
       "      <td>1</td>\n",
       "      <td>2.0</td>\n",
       "    </tr>\n",
       "    <tr>\n",
       "      <th>...</th>\n",
       "      <th>...</th>\n",
       "      <td>...</td>\n",
       "      <td>...</td>\n",
       "      <td>...</td>\n",
       "    </tr>\n",
       "    <tr>\n",
       "      <th>684765329</th>\n",
       "      <th>493524637</th>\n",
       "      <td>1.0</td>\n",
       "      <td>0</td>\n",
       "      <td>1.0</td>\n",
       "    </tr>\n",
       "    <tr>\n",
       "      <th>684765341</th>\n",
       "      <th>493523671</th>\n",
       "      <td>1.0</td>\n",
       "      <td>1</td>\n",
       "      <td>2.0</td>\n",
       "    </tr>\n",
       "    <tr>\n",
       "      <th>684765342</th>\n",
       "      <th>493523671</th>\n",
       "      <td>1.0</td>\n",
       "      <td>1</td>\n",
       "      <td>2.0</td>\n",
       "    </tr>\n",
       "    <tr>\n",
       "      <th>684765343</th>\n",
       "      <th>493523671</th>\n",
       "      <td>1.0</td>\n",
       "      <td>1</td>\n",
       "      <td>2.0</td>\n",
       "    </tr>\n",
       "    <tr>\n",
       "      <th>684765344</th>\n",
       "      <th>493523671</th>\n",
       "      <td>1.0</td>\n",
       "      <td>1</td>\n",
       "      <td>2.0</td>\n",
       "    </tr>\n",
       "  </tbody>\n",
       "</table>\n",
       "<p>5324 rows × 3 columns</p>\n",
       "</div>"
      ]
     },
     "execution_count": 14,
     "metadata": {},
     "output_type": "execute_result"
    }
   ],
   "execution_count": 14
  },
  {
   "metadata": {},
   "cell_type": "code",
   "outputs": [],
   "execution_count": null,
   "source": "",
   "id": "3a7b26147f7e7692"
  }
 ],
 "metadata": {
  "kernelspec": {
   "display_name": "Python 3",
   "language": "python",
   "name": "python3"
  },
  "language_info": {
   "codemirror_mode": {
    "name": "ipython",
    "version": 2
   },
   "file_extension": ".py",
   "mimetype": "text/x-python",
   "name": "python",
   "nbconvert_exporter": "python",
   "pygments_lexer": "ipython2",
   "version": "2.7.6"
  }
 },
 "nbformat": 4,
 "nbformat_minor": 5
}
